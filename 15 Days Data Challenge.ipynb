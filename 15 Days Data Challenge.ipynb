{
 "cells": [
  {
   "cell_type": "code",
   "execution_count": 1,
   "id": "2899fd41-1665-405b-b733-9d61f9508b93",
   "metadata": {},
   "outputs": [],
   "source": [
    "import pandas as pd\n",
    "import numpy as np"
   ]
  },
  {
   "cell_type": "code",
   "execution_count": 2,
   "id": "96fbeefa-3a9f-4b22-b660-d9f63b7c4afe",
   "metadata": {},
   "outputs": [
    {
     "name": "stdout",
     "output_type": "stream",
     "text": [
      "Hello, I am Kedei Eyong, a Data Analyst.\n",
      "I am participating in a 15 days Data Analytics Challenge.\n",
      "I really enjoy using ['Excel', 'Python', 'SQL', 'Power BI'].\n",
      "My skills include: {'Data_Cleaning': 'Expert', 'Data_Wrangling': 'Proficient', 'Data_Analysis': 'Expert', 'Data_Visualization': 'Proficient'}\n",
      "I study approximately 14.5 hours weekly to hone my skills.\n",
      "Do I enjoy data visualization? True\n",
      "I love what I do.\n"
     ]
    }
   ],
   "source": [
    "#Introducing myself using python\n",
    "print(\"Hello, I am Kedei Eyong, a Data Analyst.\")\n",
    "\n",
    "# My task duration (integer)\n",
    "duration = 15\n",
    "print(f\"I am participating in a {duration} days Data Analytics Challenge.\")\n",
    "\n",
    "# My favourite analytical tools (list)\n",
    "analytical_tools = [\"Excel\", \"Python\", \"SQL\", \"Power BI\"]\n",
    "print(f\"I really enjoy using {analytical_tools}.\")\n",
    "\n",
    "# My skills (dictionary)\n",
    "my_skills = {\n",
    "    \"Data_Cleaning\": \"Expert\",\n",
    "    \"Data_Wrangling\": \"Proficient\",\n",
    "    \"Data_Analysis\": \"Expert\",\n",
    "    \"Data_Visualization\": \"Proficient\"\n",
    "}\n",
    "print(f\"My skills include: {my_skills}\")\n",
    "\n",
    "# My weekly study hours (float)\n",
    "study_period = 14.5\n",
    "print(f\"I study approximately {study_period} hours weekly to hone my skills.\")\n",
    "\n",
    "# Do I enjoy data visualization? (boolean)\n",
    "enjoys_visualization = True\n",
    "print(f\"Do I enjoy data visualization? {enjoys_visualization}\")\n",
    "\n",
    "print(\"I love what I do.\")"
   ]
  },
  {
   "cell_type": "code",
   "execution_count": 3,
   "id": "460318fc-3292-4a4d-b956-ac4898456f8f",
   "metadata": {},
   "outputs": [
    {
     "name": "stdout",
     "output_type": "stream",
     "text": [
      "I am Kedei Eyong, an amazing Data Analyst.\n",
      "I practice data analytics for at least 14.77 hours a week.\n",
      "You can connect with me for collaboration through kedei.eyong@yahoo.com or https://www.linkedin.com/in/kedeieyong.\n",
      "In my free time, I enjoy dancing, singing, playing.\n",
      "Kedei is a Liverpool fan!\n"
     ]
    }
   ],
   "source": [
    "#Combining Data Types and basic operations\n",
    "print(\"I am Kedei Eyong, an amazing Data Analyst.\")  #string\n",
    "\n",
    "daily_study_hours = 2.11   #Float\n",
    "study_days_per_week = 7  #Integer\n",
    "weekly_study_hours = daily_study_hours * study_days_per_week  #Operation statement\n",
    "print(f\"I practice data analytics for at least {weekly_study_hours} hours a week.\")\n",
    "\n",
    "#Dictionary\n",
    "contact_info = {\n",
    "    \"email\": \"kedei.eyong@yahoo.com\",\n",
    "    \"LinkedIn\": \"https://www.linkedin.com/in/kedeieyong\"\n",
    "}\n",
    "print(f\"You can connect with me for collaboration through {contact_info['email']} or {contact_info['LinkedIn']}.\")\n",
    "\n",
    "#List\n",
    "hobbies = [\"dancing\", \"singing\", \"playing\"] \n",
    "print(f\"In my free time, I enjoy {', '.join(hobbies)}.\")\n",
    "\n",
    "#Conditional logic with Boolean data\n",
    "likes_liverpool = True\n",
    "if likes_liverpool:\n",
    "    print(\"Kedei is a Liverpool fan!\")\n",
    "else:\n",
    "    print(\"Not a football fan!\")"
   ]
  },
  {
   "cell_type": "code",
   "execution_count": 4,
   "id": "7875366e-051e-43f9-80f1-4c49365d74bf",
   "metadata": {},
   "outputs": [
    {
     "name": "stdout",
     "output_type": "stream",
     "text": [
      "Hello, my name is Kedei and I am a Data Analyst.\n"
     ]
    }
   ],
   "source": [
    "#String Operations\n",
    "#F-String\n",
    "name_1 = \"Kedei\"\n",
    "profession = \"a Data Analyst\"\n",
    "greeting = f\"Hello, my name is {name_1} and I am {profession}.\"\n",
    "print(greeting)"
   ]
  },
  {
   "cell_type": "code",
   "execution_count": 5,
   "id": "5fe73221-5b3e-40a3-81d3-bba94e19653b",
   "metadata": {},
   "outputs": [
    {
     "name": "stdout",
     "output_type": "stream",
     "text": [
      "Josephine\n",
      "Eyong\n",
      "('Kedei', 'Josephine', 'Josee', 'Alfred', 'Fred')\n",
      "('Josephine', 'Josee')\n"
     ]
    }
   ],
   "source": [
    "#String Indexing and Slicing\n",
    "name_2 = 'Kedei', 'Josephine', 'Josee', 'Alfred', 'Fred', 'Eyong'\n",
    "print(name_2[1])    #indexing\n",
    "print(name_2[-1])   #end indexing\n",
    "print(name_2[:5])   #slicing from the beginning\n",
    "print(name_2[1:3])  #slicing from index 1"
   ]
  },
  {
   "cell_type": "code",
   "execution_count": 6,
   "id": "541b60b2-16fd-4f75-8d03-173954ce54a1",
   "metadata": {},
   "outputs": [
    {
     "name": "stdout",
     "output_type": "stream",
     "text": [
      "Kedei Eyong\n"
     ]
    }
   ],
   "source": [
    "#String Concatenation\n",
    "first_name = \"Kedei\"\n",
    "last_name = \"Eyong\"\n",
    "name_3 = first_name + \" \" + last_name\n",
    "print(name_3)"
   ]
  },
  {
   "cell_type": "code",
   "execution_count": 7,
   "id": "afc639f9-bece-45c1-868d-0f1b88bf3756",
   "metadata": {},
   "outputs": [
    {
     "name": "stdout",
     "output_type": "stream",
     "text": [
      "5\n",
      "Kedei\n",
      "KEDEI\n",
      "kedei\n"
     ]
    }
   ],
   "source": [
    "#Other String Operations\n",
    "print(len(first_name))\n",
    "print(first_name.capitalize())\n",
    "print(first_name.upper())\n",
    "print(first_name.lower())"
   ]
  },
  {
   "cell_type": "code",
   "execution_count": 8,
   "id": "e3756f8d-54c2-4e6a-9f3f-47d6d8101133",
   "metadata": {},
   "outputs": [
    {
     "name": "stdout",
     "output_type": "stream",
     "text": [
      "['dancing', 'singing', 'playing']\n",
      "(2, 4, 6, 8, 10, 12, 14)\n",
      "{'first_name': 'Kedei', 'profession': 'a Data Analyst'}\n",
      "{0, 1, 3, 6, 12, 13, 31}\n"
     ]
    }
   ],
   "source": [
    "#Data Structures\n",
    "\n",
    "#List - used for ordered mutable elements\n",
    "my_hobbies = [\"dancing\", \"singing\", \"playing\"]\n",
    "print(my_hobbies)\n",
    "\n",
    "#Tuples - used for ordered immutable elements\n",
    "even_numbers = (2, 4, 6, 8, 10, 12, 14)\n",
    "print(even_numbers)\n",
    "\n",
    "#Dictionary - used for key value pairs\n",
    "my_skills = {\n",
    "    \"first_name\": \"Kedei\",\n",
    "    \"profession\": \"a Data Analyst\"\n",
    "}\n",
    "print(my_skills)\n",
    "\n",
    "#Set - used for unordered collection of unique elements\n",
    "even_numbers = {0, 1, 6, 3, 13, 12, 31}\n",
    "print(even_numbers)"
   ]
  },
  {
   "cell_type": "code",
   "execution_count": 9,
   "id": "92bebeda-d80b-4a50-98f1-e8bc524e233f",
   "metadata": {},
   "outputs": [
    {
     "name": "stdout",
     "output_type": "stream",
     "text": [
      "Distinction\n",
      "Distinction\n",
      "Distinction\n",
      "well done but try harder!\n",
      "well done but try harder!\n",
      "odd number\n",
      "even number\n",
      "odd number\n",
      "even number\n",
      "even number\n"
     ]
    }
   ],
   "source": [
    "#For Loop and if else statement\n",
    "student_score = [79, 90, 87, 58, 64]\n",
    "\n",
    "for score in student_score:\n",
    "    if score > 75:\n",
    "        print(\"Distinction\")\n",
    "    else:\n",
    "        print(\"well done but try harder!\")\n",
    "\n",
    "for score in student_score:\n",
    "    if score % 2 == 0:\n",
    "        print(\"even number\")\n",
    "    else:\n",
    "        print(\"odd number\")"
   ]
  },
  {
   "cell_type": "code",
   "execution_count": 10,
   "id": "7d8c12f4-f652-4d80-be72-15af49135038",
   "metadata": {},
   "outputs": [
    {
     "name": "stdin",
     "output_type": "stream",
     "text": [
      "Enter your score:  95\n"
     ]
    },
    {
     "name": "stdout",
     "output_type": "stream",
     "text": [
      "95\n"
     ]
    }
   ],
   "source": [
    "def student_score_input():\n",
    "  \"\"\"Prompts the student to enter subject score and returns it.\"\"\"\n",
    "  while True:\n",
    "     try:\n",
    "        student_score_input = int(input(\"Enter your score: \"))\n",
    "        return student_score_input\n",
    "     except ValueError:\n",
    "        print(\"Invalid input. Please enter a numeric value.\")\n",
    "\n",
    "# Get user input\n",
    "score_data = student_score_input()\n",
    "print(score_data)"
   ]
  },
  {
   "cell_type": "code",
   "execution_count": 11,
   "id": "5002cdae-964c-440a-a47c-75a6f33a46d9",
   "metadata": {},
   "outputs": [
    {
     "name": "stdout",
     "output_type": "stream",
     "text": [
      "18\n",
      "25\n",
      "15\n",
      "9.0\n"
     ]
    }
   ],
   "source": [
    "import my_module\n",
    "\n",
    "result_1 = my_module.add(17, 1)\n",
    "print(result_1)\n",
    "\n",
    "result_2 = my_module.subtract(30, 5)\n",
    "print(result_2)\n",
    "\n",
    "result_3 = my_module.multiply(3, 5)\n",
    "print(result_3)\n",
    "\n",
    "result_4 = my_module.divide(27,3)\n",
    "print(result_4)"
   ]
  },
  {
   "cell_type": "code",
   "execution_count": 12,
   "id": "46a02f7d-9bae-46c6-a693-e7aeb34e3a2c",
   "metadata": {},
   "outputs": [
    {
     "data": {
      "text/html": [
       "<div>\n",
       "<style scoped>\n",
       "    .dataframe tbody tr th:only-of-type {\n",
       "        vertical-align: middle;\n",
       "    }\n",
       "\n",
       "    .dataframe tbody tr th {\n",
       "        vertical-align: top;\n",
       "    }\n",
       "\n",
       "    .dataframe thead th {\n",
       "        text-align: right;\n",
       "    }\n",
       "</style>\n",
       "<table border=\"1\" class=\"dataframe\">\n",
       "  <thead>\n",
       "    <tr style=\"text-align: right;\">\n",
       "      <th></th>\n",
       "      <th>Product Identifier</th>\n",
       "      <th>Supermarket Identifier</th>\n",
       "      <th>Product Supermarket Identifer</th>\n",
       "      <th>Product Weight</th>\n",
       "      <th>Product Fat Content</th>\n",
       "      <th>Product Shelf Visibility</th>\n",
       "      <th>Product Type</th>\n",
       "      <th>Product Price</th>\n",
       "      <th>Supermarket Opening Year</th>\n",
       "      <th>Supermarket  Size</th>\n",
       "      <th>Supermarket Location Type</th>\n",
       "      <th>Supermarket Type</th>\n",
       "      <th>Average Price per ProductType</th>\n",
       "      <th>Product Supermarket Sales</th>\n",
       "    </tr>\n",
       "  </thead>\n",
       "  <tbody>\n",
       "    <tr>\n",
       "      <th>0</th>\n",
       "      <td>NCA29</td>\n",
       "      <td>CHUKWUDI046</td>\n",
       "      <td>NCA29_CHUKWUDI046</td>\n",
       "      <td>10.500</td>\n",
       "      <td>Lo Fat</td>\n",
       "      <td>0.027276</td>\n",
       "      <td>Household</td>\n",
       "      <td>428.28</td>\n",
       "      <td>s004</td>\n",
       "      <td>Small</td>\n",
       "      <td>Cluster 1</td>\n",
       "      <td>Supermarket Type1</td>\n",
       "      <td>399.999418</td>\n",
       "      <td>8983.31</td>\n",
       "    </tr>\n",
       "    <tr>\n",
       "      <th>1</th>\n",
       "      <td>FDG53</td>\n",
       "      <td>CHUKWUDI049</td>\n",
       "      <td>FDG53_CHUKWUDI049</td>\n",
       "      <td>10.000</td>\n",
       "      <td>Low Fat</td>\n",
       "      <td>0.045928</td>\n",
       "      <td>Frozen Foods</td>\n",
       "      <td>345.30</td>\n",
       "      <td>2006</td>\n",
       "      <td>Medium</td>\n",
       "      <td>Cluster 1</td>\n",
       "      <td>Supermarket Type1</td>\n",
       "      <td>388.0710941</td>\n",
       "      <td>4893.63</td>\n",
       "    </tr>\n",
       "    <tr>\n",
       "      <th>2</th>\n",
       "      <td>NCN05</td>\n",
       "      <td>CHUKWUDI045</td>\n",
       "      <td>NCN05_CHUKWUDI045</td>\n",
       "      <td>8.235</td>\n",
       "      <td>Lo Fat</td>\n",
       "      <td>0.014489</td>\n",
       "      <td>Health and Hygiene</td>\n",
       "      <td>459.49</td>\n",
       "      <td>s009</td>\n",
       "      <td>NaN</td>\n",
       "      <td>Cluster 2</td>\n",
       "      <td>Supermarket Type1</td>\n",
       "      <td>367.1430293</td>\n",
       "      <td>7323.80</td>\n",
       "    </tr>\n",
       "    <tr>\n",
       "      <th>3</th>\n",
       "      <td>NCV17</td>\n",
       "      <td>CHUKWUDI046</td>\n",
       "      <td>NCV17_CHUKWUDI046</td>\n",
       "      <td>18.850</td>\n",
       "      <td>Low Fat</td>\n",
       "      <td>0.016108</td>\n",
       "      <td>Health and Hygiene</td>\n",
       "      <td>324.41</td>\n",
       "      <td>s004</td>\n",
       "      <td>Small</td>\n",
       "      <td>Cluster 1</td>\n",
       "      <td>Supermarket Type1</td>\n",
       "      <td>367.1430293</td>\n",
       "      <td>7541.85</td>\n",
       "    </tr>\n",
       "    <tr>\n",
       "      <th>4</th>\n",
       "      <td>FDK03</td>\n",
       "      <td>CHUKWUDI045</td>\n",
       "      <td>FDK03_CHUKWUDI045</td>\n",
       "      <td>12.600</td>\n",
       "      <td>Normal Fat</td>\n",
       "      <td>0.074070</td>\n",
       "      <td>Dairy</td>\n",
       "      <td>635.59</td>\n",
       "      <td>s009</td>\n",
       "      <td>NaN</td>\n",
       "      <td>Cluster 2</td>\n",
       "      <td>Supermarket Type1</td>\n",
       "      <td>409.5043429</td>\n",
       "      <td>11445.10</td>\n",
       "    </tr>\n",
       "  </tbody>\n",
       "</table>\n",
       "</div>"
      ],
      "text/plain": [
       "  Product Identifier Supermarket Identifier Product Supermarket Identifer  \\\n",
       "0              NCA29            CHUKWUDI046             NCA29_CHUKWUDI046   \n",
       "1              FDG53            CHUKWUDI049             FDG53_CHUKWUDI049   \n",
       "2              NCN05            CHUKWUDI045             NCN05_CHUKWUDI045   \n",
       "3              NCV17            CHUKWUDI046             NCV17_CHUKWUDI046   \n",
       "4              FDK03            CHUKWUDI045             FDK03_CHUKWUDI045   \n",
       "\n",
       "   Product Weight Product Fat Content  Product Shelf Visibility  \\\n",
       "0          10.500              Lo Fat                  0.027276   \n",
       "1          10.000             Low Fat                  0.045928   \n",
       "2           8.235              Lo Fat                  0.014489   \n",
       "3          18.850             Low Fat                  0.016108   \n",
       "4          12.600          Normal Fat                  0.074070   \n",
       "\n",
       "         Product Type  Product Price Supermarket Opening Year  \\\n",
       "0           Household         428.28                     s004   \n",
       "1        Frozen Foods         345.30                     2006   \n",
       "2  Health and Hygiene         459.49                     s009   \n",
       "3  Health and Hygiene         324.41                     s004   \n",
       "4               Dairy         635.59                     s009   \n",
       "\n",
       "  Supermarket  Size Supermarket Location Type   Supermarket Type  \\\n",
       "0             Small                 Cluster 1  Supermarket Type1   \n",
       "1            Medium                 Cluster 1  Supermarket Type1   \n",
       "2               NaN                 Cluster 2  Supermarket Type1   \n",
       "3             Small                 Cluster 1  Supermarket Type1   \n",
       "4               NaN                 Cluster 2  Supermarket Type1   \n",
       "\n",
       "  Average Price per ProductType  Product Supermarket Sales  \n",
       "0                    399.999418                    8983.31  \n",
       "1                   388.0710941                    4893.63  \n",
       "2                   367.1430293                    7323.80  \n",
       "3                   367.1430293                    7541.85  \n",
       "4                   409.5043429                   11445.10  "
      ]
     },
     "execution_count": 12,
     "metadata": {},
     "output_type": "execute_result"
    }
   ],
   "source": [
    "df_1 = pd.read_csv(\"C:/Users/LENOVO/Desktop/Supermarket.csv\")\n",
    "df_1.head()"
   ]
  },
  {
   "cell_type": "code",
   "execution_count": 13,
   "id": "11a0374b-db77-4102-895f-a1bfd3b0dac0",
   "metadata": {},
   "outputs": [
    {
     "name": "stdout",
     "output_type": "stream",
     "text": [
      "[[19 21 21]\n",
      " [28 16 23]]\n"
     ]
    }
   ],
   "source": [
    "# Numpy Operations\n",
    "# Create a 2D NumPy array of shape `(2, 3)` with random integers between 1 and 50\n",
    "test_array = np.random.randint(1, 51, (2, 3))\n",
    "print(test_array)"
   ]
  },
  {
   "cell_type": "code",
   "execution_count": 14,
   "id": "19aeb1e9-3921-40ba-93ff-1d724ddd2e52",
   "metadata": {},
   "outputs": [
    {
     "data": {
      "text/plain": [
       "128"
      ]
     },
     "execution_count": 14,
     "metadata": {},
     "output_type": "execute_result"
    }
   ],
   "source": [
    "np.sum(test_array)"
   ]
  },
  {
   "cell_type": "code",
   "execution_count": 15,
   "id": "0d6e8dcf-2710-4f0a-86f5-11801c131532",
   "metadata": {},
   "outputs": [
    {
     "data": {
      "text/plain": [
       "21.333333333333332"
      ]
     },
     "execution_count": 15,
     "metadata": {},
     "output_type": "execute_result"
    }
   ],
   "source": [
    "np.mean(test_array)"
   ]
  },
  {
   "cell_type": "code",
   "execution_count": 16,
   "id": "741807aa-66db-42f0-a3ba-c03852370cd6",
   "metadata": {},
   "outputs": [
    {
     "data": {
      "text/plain": [
       "21.0"
      ]
     },
     "execution_count": 16,
     "metadata": {},
     "output_type": "execute_result"
    }
   ],
   "source": [
    "np.median(test_array)"
   ]
  },
  {
   "cell_type": "code",
   "execution_count": 17,
   "id": "734022ae-f512-4643-af1b-cdbac9ab43c0",
   "metadata": {},
   "outputs": [
    {
     "data": {
      "text/plain": [
       "28"
      ]
     },
     "execution_count": 17,
     "metadata": {},
     "output_type": "execute_result"
    }
   ],
   "source": [
    "np.max(test_array)"
   ]
  },
  {
   "cell_type": "code",
   "execution_count": 18,
   "id": "8e19bd57-35f1-4604-b0e9-73d9772d8eab",
   "metadata": {},
   "outputs": [
    {
     "data": {
      "text/plain": [
       "16"
      ]
     },
     "execution_count": 18,
     "metadata": {},
     "output_type": "execute_result"
    }
   ],
   "source": [
    "np.min(test_array)"
   ]
  },
  {
   "cell_type": "code",
   "execution_count": 19,
   "id": "2d52e056-e033-4477-8f41-1b809a137b83",
   "metadata": {},
   "outputs": [
    {
     "name": "stdout",
     "output_type": "stream",
     "text": [
      "[[38 42 42]\n",
      " [56 32 46]]\n"
     ]
    }
   ],
   "source": [
    "print(test_array * 2)"
   ]
  },
  {
   "cell_type": "code",
   "execution_count": 20,
   "id": "c4410da8-6154-49f4-ab20-b53349e8a995",
   "metadata": {},
   "outputs": [
    {
     "data": {
      "text/plain": [
       "array([16, 19, 21, 23, 28])"
      ]
     },
     "execution_count": 20,
     "metadata": {},
     "output_type": "execute_result"
    }
   ],
   "source": [
    "np.unique(test_array)"
   ]
  },
  {
   "cell_type": "code",
   "execution_count": 21,
   "id": "4f5d16e0-b320-4d83-ac94-d292a0de7374",
   "metadata": {},
   "outputs": [],
   "source": [
    "new_array = np.append(test_array, 5)"
   ]
  },
  {
   "cell_type": "code",
   "execution_count": 22,
   "id": "b7086514-026b-4dd7-a1fa-f610774fb26a",
   "metadata": {},
   "outputs": [
    {
     "name": "stdout",
     "output_type": "stream",
     "text": [
      "Elements greater than 5:\n",
      " [19 21 21 28 16 23]\n",
      "Elements between 15 and 40:\n",
      " [19 21 21 28 16 23]\n",
      "Elements less than or equal to 20:\n",
      " [19 16  5]\n",
      "Elements not equal to 5:\n",
      " [19 21 21 28 16 23]\n"
     ]
    }
   ],
   "source": [
    "#Boolean Array Operations\n",
    "# Select elements greater than 5\n",
    "greater_than_5 = new_array > 5\n",
    "print(\"Elements greater than 5:\\n\", new_array[greater_than_5])\n",
    "\n",
    "# Select elements between 15 and 40\n",
    "between_15_and_40 = (new_array >= 15) & (new_array <= 40)\n",
    "print(\"Elements between 15 and 40:\\n\", new_array[between_15_and_40])\n",
    "\n",
    "# Select elements less than or equal to 20\n",
    "less_than_or_equal_to_20 = new_array <= 20\n",
    "print(\"Elements less than or equal to 20:\\n\", new_array[less_than_or_equal_to_20])\n",
    "\n",
    "# Select elements that are not equal to 5\n",
    "not_equal_to_5 = new_array != 5\n",
    "print(\"Elements not equal to 5:\\n\", new_array[not_equal_to_5])"
   ]
  },
  {
   "cell_type": "code",
   "execution_count": 23,
   "id": "c0fd002d-09a2-4e78-ace1-b7f6c94c6e36",
   "metadata": {},
   "outputs": [
    {
     "name": "stdout",
     "output_type": "stream",
     "text": [
      "List: [0, 1, 2, 3]\n",
      "Array: [0 1 2 3]\n",
      "reshaped: [[0 1 2 3]]\n",
      "resized: [[0]\n",
      " [1]\n",
      " [2]]\n",
      "new array: [1.         2.33333333 3.66666667 5.        ]\n",
      "dot_array: 24.666666666666664\n"
     ]
    }
   ],
   "source": [
    "#Numpy Algebra\n",
    "L = list(range(4))  # Creating a list\n",
    "print(\"List:\", L) \n",
    "\n",
    "test_array2 = np.array(L)   # Creating an array from the list\n",
    "print(\"Array:\", test_array2)\n",
    "\n",
    "reshaped_arr = test_array2.reshape(1, 4)   # changing the shape of test_array2\n",
    "print(\"reshaped:\", reshaped_arr)\n",
    "\n",
    "resized_arr = test_array2.copy()       # resizing test_array2     \n",
    "resized_arr.resize(3,1)\n",
    "print(\"resized:\", resized_arr)\n",
    "\n",
    "test_array3 = np.linspace(1, 5, 4)     # creating a new array of 4 numbers between 1 and 5)\n",
    "print(\"new array:\", test_array3)\n",
    "\n",
    "dot_array = np.dot(test_array2, test_array3)    # multiplying two arrays [test_array2, test_array3]\n",
    "print(\"dot_array:\", dot_array)"
   ]
  },
  {
   "cell_type": "code",
   "execution_count": 24,
   "id": "38bc696e-29f6-4455-ad60-fbc711579ea6",
   "metadata": {},
   "outputs": [
    {
     "name": "stdout",
     "output_type": "stream",
     "text": [
      "0    0\n",
      "1    1\n",
      "2    2\n",
      "3    3\n",
      "dtype: int64\n",
      "0     35\n",
      "1     60\n",
      "2     90\n",
      "3    105\n",
      "4     20\n",
      "dtype: int64\n",
      "student_name    Kedei\n",
      "score              99\n",
      "dtype: object\n",
      "a    15\n",
      "b    70\n",
      "c    45\n",
      "d    30\n",
      "dtype: int64\n"
     ]
    }
   ],
   "source": [
    "# Creating a pandas series\n",
    "L = [0, 1, 2, 3]                 # From a list\n",
    "series_1 = pd.Series(L)\n",
    "print(series_1)\n",
    "\n",
    "arr_1 = [35, 60, 90, 105, 20]    # From an array\n",
    "series_2 = pd.Series(arr_1)\n",
    "print(series_2)\n",
    "\n",
    "dict_of_list = {                 # From a dictionary\n",
    "    \"student_name\": \"Kedei\",\n",
    "    \"score\" : \"99\"\n",
    "}\n",
    "series_3 = pd.Series(dict_of_list)\n",
    "print(series_3)\n",
    "\n",
    "L2 = [15, 70, 45, 30]                # Using index\n",
    "index_1 = ['a', 'b', 'c', 'd']\n",
    "series_4 = pd.Series(L2, index=index_1) \n",
    "print(series_4)"
   ]
  },
  {
   "cell_type": "code",
   "execution_count": 25,
   "id": "ab347dd9-6040-44a3-9064-ae330aa8a6b3",
   "metadata": {},
   "outputs": [
    {
     "name": "stdout",
     "output_type": "stream",
     "text": [
      "[0 1 2 3]\n",
      "2\n",
      "0     35\n",
      "1     60\n",
      "2     90\n",
      "3    105\n",
      "dtype: int64\n",
      "99\n",
      "c    45\n",
      "d    30\n",
      "dtype: int64\n"
     ]
    }
   ],
   "source": [
    "# Series operations\n",
    "print(series_1.values)     # Accessing elements using values function\n",
    "\n",
    "print(series_1[2])         # Indexing\n",
    "\n",
    "print(series_2[:4])        # Slicing from first index\n",
    "\n",
    "print(series_3[\"score\"])   # Slicing from the \"score\" key\n",
    "\n",
    "print(series_4[2:4])       # Slicing from second to fourth index"
   ]
  },
  {
   "cell_type": "code",
   "execution_count": 26,
   "id": "ae8160f0-e81f-4837-98a5-3d6968de6a47",
   "metadata": {},
   "outputs": [
    {
     "name": "stdout",
     "output_type": "stream",
     "text": [
      "        Name     Courses  Scores\n",
      "0  Josephine  Management      99\n",
      "1    Caritas         CRE      69\n",
      "2     Kayode     History      58\n",
      "3     Alfred     English      88\n"
     ]
    }
   ],
   "source": [
    "#Creating a dataframe from a dictionary of name, subjects and marks\n",
    "\n",
    "dict_of_list2 = {\n",
    "    'Name': ['Josephine', 'Caritas', 'Kayode', 'Alfred'],\n",
    "    'Courses': ['Management', 'CRE','History', 'English'],\n",
    "    'Scores': [99, 69, 58, 88]\n",
    "}\n",
    "\n",
    "new_df = pd.DataFrame(dict_of_list2)\n",
    "print(new_df)"
   ]
  },
  {
   "cell_type": "code",
   "execution_count": 27,
   "id": "cf52cc2f-20d9-4e73-b679-97b758a16809",
   "metadata": {},
   "outputs": [
    {
     "name": "stdout",
     "output_type": "stream",
     "text": [
      "0    Josephine\n",
      "1      Caritas\n",
      "2       Kayode\n",
      "3       Alfred\n",
      "Name: Name, dtype: object\n",
      "        Name  Scores\n",
      "0  Josephine      99\n",
      "1    Caritas      69\n",
      "2     Kayode      58\n",
      "3     Alfred      88\n"
     ]
    }
   ],
   "source": [
    "# Dataframe Operations: Selecting columns\n",
    "print(new_df['Name'])   # Select the name column\n",
    "print(new_df[['Name', 'Scores']])    # Select the 'Name' and 'Scores' column"
   ]
  },
  {
   "cell_type": "code",
   "execution_count": 28,
   "id": "50c8d0d0-f522-4cb4-9473-976f800336b7",
   "metadata": {},
   "outputs": [
    {
     "name": "stdout",
     "output_type": "stream",
     "text": [
      "        Name     Courses  Scores\n",
      "0  Josephine  Management      99\n",
      "1    Caritas         CRE      69\n",
      "        Name     Courses  Scores\n",
      "0  Josephine  Management      99\n",
      "1    Caritas         CRE      69\n",
      "2     Kayode     History      58\n",
      "     Name  Courses  Scores\n",
      "2  Kayode  History      58\n",
      "3  Alfred  English      88\n"
     ]
    }
   ],
   "source": [
    "#Filtering Rows\n",
    "print(new_df.head(2))          # Filter the first two rows\n",
    "print(new_df.head(3))          # Filter the first three rows\n",
    "print(new_df.tail(2))          # Filter the last two rows"
   ]
  },
  {
   "cell_type": "code",
   "execution_count": 29,
   "id": "fd6f1c3d-ff07-418a-939a-89d5e9862cbf",
   "metadata": {},
   "outputs": [
    {
     "name": "stdout",
     "output_type": "stream",
     "text": [
      "        Name     Courses  Scores Grades\n",
      "0  Josephine  Management      99      A\n",
      "1    Caritas         CRE      69      B\n",
      "2     Kayode     History      58      C\n",
      "3     Alfred     English      88      A\n"
     ]
    }
   ],
   "source": [
    "new_df['Grades'] = ['A', 'B', 'C', 'A']   # Add a new column 'Grades' with the given values 'A', 'B', 'C', 'A'\n",
    "print(new_df)                             # Print updated new_df"
   ]
  },
  {
   "cell_type": "code",
   "execution_count": 30,
   "id": "5b171209-48ba-498f-bb65-7eed53a57ae2",
   "metadata": {},
   "outputs": [
    {
     "name": "stdout",
     "output_type": "stream",
     "text": [
      "        Name     Courses  Scores Grades\n",
      "0  Josephine  Management      99      A\n",
      "1    Caritas         CRE      69      B\n"
     ]
    }
   ],
   "source": [
    "print(new_df.loc[[0, 1]])"
   ]
  },
  {
   "cell_type": "code",
   "execution_count": 31,
   "id": "7b71ff28-09aa-49c9-88e7-3de40342be20",
   "metadata": {},
   "outputs": [
    {
     "name": "stdout",
     "output_type": "stream",
     "text": [
      "      Name  Courses  Scores Grades\n",
      "1  Caritas      CRE      69      B\n",
      "2   Kayode  History      58      C\n"
     ]
    }
   ],
   "source": [
    "print(new_df.iloc[1:3,:])"
   ]
  }
 ],
 "metadata": {
  "kernelspec": {
   "display_name": "Python 3 (ipykernel)",
   "language": "python",
   "name": "python3"
  },
  "language_info": {
   "codemirror_mode": {
    "name": "ipython",
    "version": 3
   },
   "file_extension": ".py",
   "mimetype": "text/x-python",
   "name": "python",
   "nbconvert_exporter": "python",
   "pygments_lexer": "ipython3",
   "version": "3.12.7"
  }
 },
 "nbformat": 4,
 "nbformat_minor": 5
}
